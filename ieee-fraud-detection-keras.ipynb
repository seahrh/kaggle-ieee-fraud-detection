{
 "cells": [
  {
   "cell_type": "code",
   "execution_count": 1,
   "metadata": {
    "_cell_guid": "b1076dfc-b9ad-4769-8c92-a6c4dae69d19",
    "_uuid": "8f2839f25d086af736a60e9eeb907d3b93b6e0e5"
   },
   "outputs": [
    {
     "name": "stderr",
     "output_type": "stream",
     "text": [
      "Using TensorFlow backend.\n"
     ]
    },
    {
     "name": "stdout",
     "output_type": "stream",
     "text": [
      "tf=1.14.0, keras=2.2.4-tf\n"
     ]
    }
   ],
   "source": [
    "# This Python 3 environment comes with many helpful analytics libraries installed\n",
    "# It is defined by the kaggle/python docker image: https://github.com/kaggle/docker-python\n",
    "# For example, here's several helpful packages to load in \n",
    "\n",
    "import os\n",
    "import random\n",
    "import numpy as np # linear algebra\n",
    "import pandas as pd # data processing, CSV file I/O (e.g. pd.read_csv)\n",
    "import matplotlib.pyplot as plt\n",
    "import tensorflow as tf\n",
    "from tensorflow import keras\n",
    "from tensorflow.keras import layers, regularizers\n",
    "from sklearn.metrics import roc_auc_score\n",
    "import keras.backend as K\n",
    "from collections import OrderedDict\n",
    "from keras.models import Model\n",
    "import seaborn as sns\n",
    "\n",
    "print(f'tf={tf.__version__}, keras={keras.__version__}')"
   ]
  },
  {
   "cell_type": "code",
   "execution_count": 2,
   "metadata": {
    "_cell_guid": "79c7e3d0-c299-4dcb-8224-4455121ee9b0",
    "_uuid": "d629ff2d2480ee46fbb7e2d37f6b5fab8052498a"
   },
   "outputs": [],
   "source": [
    "SEED = 31\n",
    "EPOCHS = 100\n",
    "BATCH_SIZE = 128\n",
    "TARGET = 'isFraud'\n",
    "VALIDATION_PERCENT = 0.08\n",
    "DROPOUT_RATE = 0.5  #0.2\n",
    "L2 = 0.0001  #0.00001\n",
    "LEARNING_RATE = 0.002\n",
    "HIDDEN_UNITS = 200  #256\n",
    "HIDDEN_LAYERS = 2  #4\n",
    "PATIENCE = 4\n",
    "DECAY_RATE = 0.5\n",
    "DECAY_STEPS = 4"
   ]
  },
  {
   "cell_type": "code",
   "execution_count": 3,
   "metadata": {},
   "outputs": [],
   "source": [
    "def seed_everything(seed):\n",
    "    random.seed(seed)\n",
    "    os.environ['PYTHONHASHSEED'] = str(seed)\n",
    "    np.random.seed(seed)\n",
    "    tf.set_random_seed(seed)\n",
    "\n",
    "\n",
    "seed_everything(SEED)"
   ]
  },
  {
   "cell_type": "code",
   "execution_count": 4,
   "metadata": {},
   "outputs": [
    {
     "name": "stdout",
     "output_type": "stream",
     "text": [
      "<class 'pandas.core.frame.DataFrame'>\n",
      "RangeIndex: 590540 entries, 0 to 590539\n",
      "Columns: 375 entries, isFraud to _pc_18\n",
      "dtypes: float64(374), int64(1)\n",
      "memory usage: 1.6 GB\n"
     ]
    }
   ],
   "source": [
    "file_folder = '../input/ieee-fraud-detection-preprocess'\n",
    "train = pd.read_csv(f'{file_folder}/train.csv')\n",
    "test = pd.read_csv(f'{file_folder}/test.csv')\n",
    "train.info()"
   ]
  },
  {
   "cell_type": "code",
   "execution_count": 5,
   "metadata": {},
   "outputs": [
    {
     "name": "stdout",
     "output_type": "stream",
     "text": [
      "<class 'pandas.core.frame.DataFrame'>\n",
      "RangeIndex: 506691 entries, 0 to 506690\n",
      "Columns: 374 entries, TransactionAmt to _pc_18\n",
      "dtypes: float64(374)\n",
      "memory usage: 1.4 GB\n"
     ]
    }
   ],
   "source": [
    "test.info()"
   ]
  },
  {
   "cell_type": "code",
   "execution_count": 6,
   "metadata": {},
   "outputs": [
    {
     "name": "stdout",
     "output_type": "stream",
     "text": [
      "355 predictors=['TransactionAmt', 'ProductCD', 'card1', 'card2', 'card3', 'card4', 'card5', 'card6', 'dist1', 'P_emaildomain', 'R_emaildomain', 'C1', 'C2', 'C3', 'C4', 'C5', 'C6', 'C7', 'C8', 'C9', 'C10', 'C11', 'C12', 'C13', 'C14', 'D1', 'D2', 'D3', 'D4', 'D10', 'D11', 'D15', 'M1', 'M2', 'M3', 'M4', 'M5', 'M6', 'M7', 'M8', 'M9', 'V1', 'V2', 'V3', 'V4', 'V5', 'V6', 'V7', 'V8', 'V9', 'V10', 'V11', 'V12', 'V13', 'V14', 'V15', 'V16', 'V17', 'V18', 'V19', 'V20', 'V21', 'V22', 'V23', 'V24', 'V25', 'V26', 'V27', 'V28', 'V29', 'V30', 'V31', 'V32', 'V33', 'V34', 'V35', 'V36', 'V37', 'V38', 'V39', 'V40', 'V41', 'V42', 'V43', 'V44', 'V45', 'V46', 'V47', 'V48', 'V49', 'V50', 'V51', 'V52', 'V53', 'V54', 'V55', 'V56', 'V57', 'V58', 'V59', 'V60', 'V61', 'V62', 'V63', 'V64', 'V65', 'V66', 'V67', 'V68', 'V69', 'V70', 'V71', 'V72', 'V73', 'V74', 'V75', 'V76', 'V77', 'V78', 'V79', 'V80', 'V81', 'V82', 'V83', 'V84', 'V85', 'V86', 'V87', 'V88', 'V89', 'V90', 'V91', 'V92', 'V93', 'V94', 'V95', 'V96', 'V97', 'V98', 'V99', 'V100', 'V101', 'V102', 'V103', 'V104', 'V105', 'V106', 'V107', 'V108', 'V109', 'V110', 'V111', 'V112', 'V113', 'V114', 'V115', 'V116', 'V117', 'V118', 'V119', 'V120', 'V121', 'V122', 'V123', 'V124', 'V125', 'V126', 'V127', 'V128', 'V129', 'V130', 'V131', 'V132', 'V133', 'V134', 'V135', 'V136', 'V137', 'V279', 'V280', 'V281', 'V282', 'V283', 'V284', 'V285', 'V286', 'V287', 'V288', 'V289', 'V290', 'V291', 'V292', 'V293', 'V294', 'V295', 'V296', 'V297', 'V298', 'V299', 'V300', 'V301', 'V302', 'V303', 'V304', 'V305', 'V306', 'V307', 'V308', 'V309', 'V310', 'V311', 'V312', 'V313', 'V314', 'V315', 'V316', 'V317', 'V318', 'V319', 'V320', 'V321', 'id_12', 'id_13', 'id_14', 'id_15', 'id_16', 'id_17', 'id_18', 'id_19', 'id_20', 'id_21', 'id_22', 'id_23', 'id_24', 'id_25', 'id_26', 'id_27', 'id_28', 'id_29', 'id_30', 'id_31', 'id_32', 'id_33', 'id_34', 'id_35', 'id_36', 'id_37', 'id_38', 'DeviceType', 'DeviceInfo', 'addr', 'TransactionAmt_to_id_12_mean', 'dist1_to_id_12_mean', 'TransactionAmt_to_id_12_std', 'dist1_to_id_12_std', 'TransactionAmt_to_id_36_mean', 'dist1_to_id_36_mean', 'TransactionAmt_to_id_36_std', 'dist1_to_id_36_std', 'TransactionAmt_to_id_38_mean', 'dist1_to_id_38_mean', 'TransactionAmt_to_id_38_std', 'dist1_to_id_38_std', 'TransactionAmt_to_M5_mean', 'dist1_to_M5_mean', 'TransactionAmt_to_M5_std', 'dist1_to_M5_std', 'TransactionAmt_to_id_37_mean', 'dist1_to_id_37_mean', 'TransactionAmt_to_id_37_std', 'dist1_to_id_37_std', 'TransactionAmt_to_M1_mean', 'dist1_to_M1_mean', 'TransactionAmt_to_M1_std', 'dist1_to_M1_std', 'TransactionAmt_to_M6_mean', 'dist1_to_M6_mean', 'TransactionAmt_to_M6_std', 'dist1_to_M6_std', 'TransactionAmt_to_card4_mean', 'dist1_to_card4_mean', 'TransactionAmt_to_card4_std', 'dist1_to_card4_std', 'TransactionAmt_to_id_23_mean', 'dist1_to_id_23_mean', 'TransactionAmt_to_id_23_std', 'dist1_to_id_23_std', 'TransactionAmt_to_id_15_mean', 'dist1_to_id_15_mean', 'TransactionAmt_to_id_15_std', 'dist1_to_id_15_std', 'TransactionAmt_to_M9_mean', 'dist1_to_M9_mean', 'TransactionAmt_to_M9_std', 'dist1_to_M9_std', 'TransactionAmt_to_M3_mean', 'dist1_to_M3_mean', 'TransactionAmt_to_M3_std', 'dist1_to_M3_std', 'TransactionAmt_to_M4_mean', 'dist1_to_M4_mean', 'TransactionAmt_to_M4_std', 'dist1_to_M4_std', 'TransactionAmt_to_card6_mean', 'dist1_to_card6_mean', 'TransactionAmt_to_card6_std', 'dist1_to_card6_std', 'TransactionAmt_to_id_32_mean', 'dist1_to_id_32_mean', 'TransactionAmt_to_id_32_std', 'dist1_to_id_32_std', 'TransactionAmt_to_DeviceType_mean', 'dist1_to_DeviceType_mean', 'TransactionAmt_to_DeviceType_std', 'dist1_to_DeviceType_std', 'TransactionAmt_to_id_27_mean', 'dist1_to_id_27_mean', 'TransactionAmt_to_id_27_std', 'dist1_to_id_27_std', 'TransactionAmt_to_id_29_mean', 'dist1_to_id_29_mean', 'TransactionAmt_to_id_29_std', 'dist1_to_id_29_std', 'TransactionAmt_to_M8_mean', 'dist1_to_M8_mean', 'TransactionAmt_to_M8_std', 'dist1_to_M8_std', 'TransactionAmt_to_id_16_mean', 'dist1_to_id_16_mean', 'TransactionAmt_to_id_16_std', 'dist1_to_id_16_std', 'TransactionAmt_to_id_35_mean', 'dist1_to_id_35_mean', 'TransactionAmt_to_id_35_std', 'dist1_to_id_35_std', 'TransactionAmt_to_ProductCD_mean', 'dist1_to_ProductCD_mean', 'TransactionAmt_to_ProductCD_std', 'dist1_to_ProductCD_std', 'TransactionAmt_to_id_28_mean', 'dist1_to_id_28_mean', 'TransactionAmt_to_id_28_std', 'dist1_to_id_28_std', 'TransactionAmt_to_id_34_mean', 'dist1_to_id_34_mean', 'TransactionAmt_to_id_34_std', 'dist1_to_id_34_std', 'TransactionAmt_to_M7_mean', 'dist1_to_M7_mean', 'TransactionAmt_to_M7_std', 'dist1_to_M7_std', 'TransactionAmt_to_M2_mean', 'dist1_to_M2_mean', 'TransactionAmt_to_M2_std', 'dist1_to_M2_std']\n"
     ]
    }
   ],
   "source": [
    "def group_ratios_and_pcs():\n",
    "    excludes = {TARGET}\n",
    "    for i in range(1, 340):\n",
    "        excludes.add(f'V{i}')\n",
    "    cols = set(train.columns.values) - excludes\n",
    "    return list(cols)\n",
    "\n",
    "\n",
    "def _keep(col):\n",
    "    if col == TARGET:\n",
    "        return False\n",
    "    if col.startswith('_pc_'):\n",
    "        return False\n",
    "    #if '_to_' in col:\n",
    "     #   return False\n",
    "    return True\n",
    "\n",
    "\n",
    "PREDICTORS = [c for c in train.columns.values if _keep(c)]\n",
    "#PREDICTORS = group_ratios_and_pcs()\n",
    "print(f'{len(PREDICTORS)} predictors={PREDICTORS}')"
   ]
  },
  {
   "cell_type": "code",
   "execution_count": 7,
   "metadata": {},
   "outputs": [
    {
     "name": "stdout",
     "output_type": "stream",
     "text": [
      "train=(543297, 375), val=(47243, 375)\n"
     ]
    }
   ],
   "source": [
    "val_size = int(VALIDATION_PERCENT * len(train))\n",
    "train, val = train[:-val_size], train[-val_size:]\n",
    "print(f'train={train.shape}, val={val.shape}')"
   ]
  },
  {
   "cell_type": "code",
   "execution_count": 8,
   "metadata": {},
   "outputs": [],
   "source": [
    "y_train = train[TARGET]\n",
    "x_train = train[PREDICTORS]\n",
    "y_val = val[TARGET]\n",
    "x_val = val[PREDICTORS]\n",
    "x_test = test[PREDICTORS]"
   ]
  },
  {
   "cell_type": "markdown",
   "metadata": {},
   "source": [
    "# Compute ROC-AUC after each epoch\n",
    "Based on https://stackoverflow.com/a/46844409/519951"
   ]
  },
  {
   "cell_type": "code",
   "execution_count": 9,
   "metadata": {},
   "outputs": [],
   "source": [
    "class AucRocCallback(keras.callbacks.Callback):\n",
    "    def __init__(self,training_data,validation_data):\n",
    "        self.x = training_data[0]\n",
    "        self.y = training_data[1]\n",
    "        self.x_val = validation_data[0]\n",
    "        self.y_val = validation_data[1]\n",
    "\n",
    "\n",
    "    def on_train_begin(self, logs={}):\n",
    "        return\n",
    "\n",
    "    def on_train_end(self, logs={}):\n",
    "        return\n",
    "\n",
    "    def on_epoch_begin(self, epoch, logs={}):\n",
    "        return\n",
    "\n",
    "    def on_epoch_end(self, epoch, logs={}):\n",
    "        y_pred = self.model.predict(self.x)[:,1]\n",
    "        roc = roc_auc_score(self.y, y_pred)\n",
    "        y_pred_val = self.model.predict(self.x_val)[:,1]\n",
    "        roc_val = roc_auc_score(self.y_val, y_pred_val)\n",
    "        print('epoch=%d, roc-auc: val=%s, train=%s' % (epoch,str(round(roc_val,4)),str(round(roc,4))))\n",
    "        return\n",
    "\n",
    "    def on_batch_begin(self, batch, logs={}):\n",
    "        return\n",
    "\n",
    "    def on_batch_end(self, batch, logs={}):\n",
    "        return"
   ]
  },
  {
   "cell_type": "code",
   "execution_count": 10,
   "metadata": {},
   "outputs": [
    {
     "name": "stdout",
     "output_type": "stream",
     "text": [
      "Model: \"sequential\"\n",
      "_________________________________________________________________\n",
      "Layer (type)                 Output Shape              Param #   \n",
      "=================================================================\n",
      "dense_0 (Dense)              (None, 200)               71200     \n",
      "_________________________________________________________________\n",
      "batch_norm_0 (BatchNormaliza (None, 200)               800       \n",
      "_________________________________________________________________\n",
      "dropout_0 (Dropout)          (None, 200)               0         \n",
      "_________________________________________________________________\n",
      "dense_1 (Dense)              (None, 200)               40200     \n",
      "_________________________________________________________________\n",
      "batch_norm_1 (BatchNormaliza (None, 200)               800       \n",
      "_________________________________________________________________\n",
      "dropout_1 (Dropout)          (None, 200)               0         \n",
      "_________________________________________________________________\n",
      "output (Dense)               (None, 2)                 402       \n",
      "=================================================================\n",
      "Total params: 113,402\n",
      "Trainable params: 112,602\n",
      "Non-trainable params: 800\n",
      "_________________________________________________________________\n"
     ]
    }
   ],
   "source": [
    "def build_model(input_shape):\n",
    "  #ini = keras.initializers.he_uniform()\n",
    "  ini = keras.initializers.he_normal()\n",
    "  reg = regularizers.l2(L2)  \n",
    "\n",
    "  def _block():\n",
    "    res = []\n",
    "    for i in range(HIDDEN_LAYERS):\n",
    "        if i == 0:\n",
    "            res.append(layers.Dense(HIDDEN_UNITS,\n",
    "                                    activation=tf.nn.relu,\n",
    "                                    kernel_initializer=ini,\n",
    "                                    kernel_regularizer=reg,\n",
    "                                    input_shape=input_shape,\n",
    "                                    name=f'dense_{i}'))\n",
    "        else:\n",
    "            res.append(layers.Dense(HIDDEN_UNITS,\n",
    "                                    activation=tf.nn.relu,\n",
    "                                    kernel_initializer=ini,\n",
    "                                    kernel_regularizer=reg,\n",
    "                                    name=f'dense_{i}'))\n",
    "        res.append(layers.BatchNormalization(name=f'batch_norm_{i}'))\n",
    "        res.append(layers.Dropout(DROPOUT_RATE, name=f'dropout_{i}'))\n",
    "    return res\n",
    "  \n",
    "  hls = _block()\n",
    "  model = keras.Sequential(hls + [\n",
    "    layers.Dense(2, activation=tf.nn.softmax, name='output')\n",
    "  ])\n",
    "  opt = keras.optimizers.Adam(learning_rate=LEARNING_RATE)\n",
    "  model.compile(optimizer=opt,\n",
    "              loss='sparse_categorical_crossentropy',\n",
    "              metrics=['acc'])\n",
    "  return model\n",
    "\n",
    "\n",
    "model = build_model(input_shape=[len(x_train.keys())])\n",
    "model.summary()"
   ]
  },
  {
   "cell_type": "code",
   "execution_count": 11,
   "metadata": {},
   "outputs": [
    {
     "data": {
      "text/plain": [
       "array([[0.73517704, 0.264823  ],\n",
       "       [0.3840061 , 0.6159939 ],\n",
       "       [0.33923852, 0.6607615 ],\n",
       "       [0.50848895, 0.49151105],\n",
       "       [0.50392747, 0.49607253],\n",
       "       [0.37182468, 0.6281753 ],\n",
       "       [0.81454533, 0.1854547 ],\n",
       "       [0.55107975, 0.44892022],\n",
       "       [0.5835161 , 0.41648385],\n",
       "       [0.47371954, 0.5262805 ]], dtype=float32)"
      ]
     },
     "execution_count": 11,
     "metadata": {},
     "output_type": "execute_result"
    }
   ],
   "source": [
    "# sanity check model is producing output of desired type and shape\n",
    "example_batch = x_train[:10]\n",
    "example_result = model.predict(example_batch)\n",
    "example_result"
   ]
  },
  {
   "cell_type": "markdown",
   "metadata": {},
   "source": [
    "# Log weights"
   ]
  },
  {
   "cell_type": "code",
   "execution_count": 12,
   "metadata": {},
   "outputs": [],
   "source": [
    "def calc_stats(W):\n",
    "    return np.linalg.norm(W, 2), np.mean(W), np.std(W)\n",
    "\n",
    "\n",
    "class MyDebugWeights(keras.callbacks.Callback):\n",
    "    \n",
    "    def __init__(self):\n",
    "        super(MyDebugWeights, self).__init__()\n",
    "        self.weights = []\n",
    "        self.tf_session = K.get_session()\n",
    "            \n",
    "    def on_epoch_end(self, epoch, logs=None):\n",
    "        for layer in self.model.layers:\n",
    "            name = layer.name\n",
    "            for i, w in enumerate(layer.weights):\n",
    "                w_value = w.eval(session=self.tf_session)\n",
    "                w_norm, w_mean, w_std = calc_stats(np.reshape(w_value, -1))\n",
    "                self.weights.append((epoch, \"{:s}/W_{:d}\".format(name, i), \n",
    "                                     w_norm, w_mean, w_std))\n",
    "    \n",
    "    def on_train_end(self, logs=None):\n",
    "        for e, k, n, m, s in self.weights:\n",
    "            print(\"{:3d} {:30s} {:7.3f} {:7.3f} {:7.3f}\".format(e, k, n, m, s))\n",
    "            \n",
    "\n",
    "\n",
    "class WeightsLogger(keras.callbacks.Callback):\n",
    "    \n",
    "    def __init__(self):\n",
    "        super(WeightsLogger, self).__init__()\n",
    "        self.weights = pd.DataFrame(columns=['layer', 'target'])\n",
    "        self.tf_session = K.get_session()\n",
    "            \n",
    "    def on_epoch_end(self, epoch, logs=None):\n",
    "        for i, layer in enumerate(self.model.layers):\n",
    "            name = layer.name\n",
    "            if not name.startswith('dense_'):\n",
    "                continue\n",
    "            for w in layer.weights:\n",
    "                w_value = w.eval(session=self.tf_session)\n",
    "                tmp = pd.DataFrame(columns=['layer', 'target'])\n",
    "                tmp['target'] = np.reshape(w_value, -1)\n",
    "                tmp['layer'] = name\n",
    "                self.weights = pd.concat([self.weights, tmp])\n",
    "    \n",
    "\n",
    "weights_logger = WeightsLogger()"
   ]
  },
  {
   "cell_type": "markdown",
   "metadata": {},
   "source": [
    "# Learning rate scheduler"
   ]
  },
  {
   "cell_type": "code",
   "execution_count": 13,
   "metadata": {},
   "outputs": [],
   "source": [
    "def _learning_rate_scheduler(decay_rate, decay_steps):\n",
    "    \n",
    "    def _scheduler(epoch, lr):\n",
    "        if (epoch + 1) % decay_steps == 0:\n",
    "            return lr * decay_rate\n",
    "        return lr\n",
    "\n",
    "    return keras.callbacks.LearningRateScheduler(_scheduler, verbose=0)\n",
    "\n",
    "\n",
    "lr_scheduler = _learning_rate_scheduler(decay_rate=DECAY_RATE, decay_steps=DECAY_STEPS)"
   ]
  },
  {
   "cell_type": "markdown",
   "metadata": {},
   "source": [
    "# Train model\n",
    "Log gradients, adapted from https://stackoverflow.com/questions/45694344/calculating-gradient-norm-wrt-weights-with-keras"
   ]
  },
  {
   "cell_type": "code",
   "execution_count": 14,
   "metadata": {},
   "outputs": [
    {
     "name": "stdout",
     "output_type": "stream",
     "text": [
      "epoch=0, roc-auc: val=0.8617, train=0.8531\n",
      "epoch=1, roc-auc: val=0.8672, train=0.8662\n",
      "epoch=2, roc-auc: val=0.8743, train=0.8694\n",
      "epoch=3, roc-auc: val=0.8755, train=0.8725\n",
      "epoch=4, roc-auc: val=0.8677, train=0.8691\n",
      "epoch=5, roc-auc: val=0.8766, train=0.8726\n",
      "epoch=6, roc-auc: val=0.8726, train=0.8751\n",
      "epoch=7, roc-auc: val=0.8786, train=0.8821\n",
      "epoch=8, roc-auc: val=0.8872, train=0.8855\n",
      "epoch=9, roc-auc: val=0.8847, train=0.8866\n",
      "epoch=10, roc-auc: val=0.8805, train=0.8821\n",
      "epoch=11, roc-auc: val=0.8885, train=0.8931\n",
      "epoch=12, roc-auc: val=0.8895, train=0.8942\n",
      "epoch=13, roc-auc: val=0.8902, train=0.8961\n",
      "epoch=14, roc-auc: val=0.8909, train=0.8944\n",
      "epoch=15, roc-auc: val=0.8948, train=0.8993\n",
      "epoch=16, roc-auc: val=0.893, train=0.9008\n",
      "epoch=17, roc-auc: val=0.8945, train=0.901\n",
      "epoch=18, roc-auc: val=0.8957, train=0.9035\n",
      "epoch=19, roc-auc: val=0.8965, train=0.9066\n",
      "epoch=20, roc-auc: val=0.8975, train=0.9082\n",
      "epoch=21, roc-auc: val=0.897, train=0.9086\n",
      "epoch=22, roc-auc: val=0.8978, train=0.9102\n",
      "epoch=23, roc-auc: val=0.8996, train=0.9123\n",
      "epoch=24, roc-auc: val=0.8997, train=0.9125\n",
      "epoch=25, roc-auc: val=0.9, train=0.9136\n",
      "epoch=26, roc-auc: val=0.9008, train=0.9137\n",
      "epoch=27, roc-auc: val=0.9007, train=0.9154\n",
      "epoch=28, roc-auc: val=0.9002, train=0.9159\n",
      "epoch=29, roc-auc: val=0.8999, train=0.9167\n",
      "epoch=30, roc-auc: val=0.9002, train=0.9165\n",
      "CPU times: user 41min 34s, sys: 5min 6s, total: 46min 40s\n",
      "Wall time: 33min 59s\n"
     ]
    }
   ],
   "source": [
    "%%time\n",
    "# The patience parameter is the amount of epochs to check for improvement\n",
    "early_stop = keras.callbacks.EarlyStopping(monitor='val_loss', patience=PATIENCE)\n",
    "\n",
    "auc_roc = AucRocCallback(training_data=(x_train, y_train), validation_data=(x_val, y_val))\n",
    "\n",
    "def get_gradient_norm_func(model):\n",
    "    grads = K.gradients(model.total_loss, model.trainable_weights)\n",
    "    #summed_squares = [K.sum(K.square(g)) for g in grads]\n",
    "    #norm = K.sqrt(sum(summed_squares))\n",
    "    inputs = model._feed_inputs + model._feed_targets + model._feed_sample_weights\n",
    "    func = K.function(inputs, [grads])\n",
    "    return func\n",
    "\n",
    "\n",
    "# must be placed right before fitting the model\n",
    "get_gradient = get_gradient_norm_func(model)\n",
    "history = model.fit(\n",
    "  x_train, y_train,\n",
    "  epochs=EPOCHS, verbose=0, batch_size=BATCH_SIZE, validation_data=(x_val, y_val),\n",
    "  callbacks=[auc_roc, early_stop, lr_scheduler, weights_logger])"
   ]
  },
  {
   "cell_type": "markdown",
   "metadata": {},
   "source": [
    "# Inspect gradients"
   ]
  },
  {
   "cell_type": "code",
   "execution_count": 15,
   "metadata": {},
   "outputs": [
    {
     "data": {
      "text/plain": [
       "[<tf.Variable 'dense_0/kernel:0' shape=(355, 200) dtype=float32>,\n",
       " <tf.Variable 'dense_0/bias:0' shape=(200,) dtype=float32>,\n",
       " <tf.Variable 'batch_norm_0/gamma:0' shape=(200,) dtype=float32>,\n",
       " <tf.Variable 'batch_norm_0/beta:0' shape=(200,) dtype=float32>,\n",
       " <tf.Variable 'dense_1/kernel:0' shape=(200, 200) dtype=float32>,\n",
       " <tf.Variable 'dense_1/bias:0' shape=(200,) dtype=float32>,\n",
       " <tf.Variable 'batch_norm_1/gamma:0' shape=(200,) dtype=float32>,\n",
       " <tf.Variable 'batch_norm_1/beta:0' shape=(200,) dtype=float32>,\n",
       " <tf.Variable 'output/kernel:0' shape=(200, 2) dtype=float32>,\n",
       " <tf.Variable 'output/bias:0' shape=(2,) dtype=float32>]"
      ]
     },
     "execution_count": 15,
     "metadata": {},
     "output_type": "execute_result"
    }
   ],
   "source": [
    "model.trainable_weights"
   ]
  },
  {
   "cell_type": "code",
   "execution_count": 16,
   "metadata": {},
   "outputs": [
    {
     "data": {
      "text/plain": [
       "10"
      ]
     },
     "execution_count": 16,
     "metadata": {},
     "output_type": "execute_result"
    }
   ],
   "source": [
    "len(model.trainable_weights)"
   ]
  },
  {
   "cell_type": "code",
   "execution_count": 17,
   "metadata": {},
   "outputs": [
    {
     "name": "stdout",
     "output_type": "stream",
     "text": [
      "len(gs)=10\n",
      "<class 'pandas.core.frame.DataFrame'>\n",
      "Int64Index: 111400 entries, 0 to 199\n",
      "Data columns (total 2 columns):\n",
      "layer     111400 non-null object\n",
      "target    111400 non-null float32\n",
      "dtypes: float32(1), object(1)\n",
      "memory usage: 2.1+ MB\n",
      "CPU times: user 1.63 s, sys: 872 ms, total: 2.5 s\n",
      "Wall time: 2.52 s\n"
     ]
    }
   ],
   "source": [
    "%%time\n",
    "gs = get_gradient([x_train, y_train, np.ones(len(y_train))])[0]\n",
    "print(f'len(gs)={len(gs)}')\n",
    "gradients = pd.DataFrame(columns=['layer', 'target'])\n",
    "node_names = [w.name for w in model.trainable_weights]\n",
    "for i, node in enumerate(node_names):\n",
    "    if node.startswith('dense_0'):\n",
    "        layer = 'h0'\n",
    "    elif node.startswith('dense_1'):\n",
    "        layer = 'h1'\n",
    "    elif node.startswith('dense_2'):\n",
    "        layer = 'h2'\n",
    "    elif node.startswith('dense_3'):\n",
    "        layer = 'h3'\n",
    "    elif node.startswith('dense_4'):\n",
    "        layer = 'h4'\n",
    "    else:\n",
    "        continue\n",
    "    tmp = pd.DataFrame(columns=['layer', 'target'])\n",
    "    tmp['target'] = gs[i].flatten()\n",
    "    tmp['layer'] = layer\n",
    "    gradients = pd.concat([gradients, tmp])\n",
    "    \n",
    "    \n",
    "gradients.info()"
   ]
  },
  {
   "cell_type": "code",
   "execution_count": 18,
   "metadata": {},
   "outputs": [
    {
     "data": {
      "text/html": [
       "<div>\n",
       "<style scoped>\n",
       "    .dataframe tbody tr th:only-of-type {\n",
       "        vertical-align: middle;\n",
       "    }\n",
       "\n",
       "    .dataframe tbody tr th {\n",
       "        vertical-align: top;\n",
       "    }\n",
       "\n",
       "    .dataframe thead th {\n",
       "        text-align: right;\n",
       "    }\n",
       "</style>\n",
       "<table border=\"1\" class=\"dataframe\">\n",
       "  <thead>\n",
       "    <tr style=\"text-align: right;\">\n",
       "      <th></th>\n",
       "      <th>median</th>\n",
       "      <th>std</th>\n",
       "      <th>min</th>\n",
       "      <th>max</th>\n",
       "      <th>skew</th>\n",
       "    </tr>\n",
       "    <tr>\n",
       "      <th>layer</th>\n",
       "      <th></th>\n",
       "      <th></th>\n",
       "      <th></th>\n",
       "      <th></th>\n",
       "      <th></th>\n",
       "    </tr>\n",
       "  </thead>\n",
       "  <tbody>\n",
       "    <tr>\n",
       "      <td>h0</td>\n",
       "      <td>-1.165619e-35</td>\n",
       "      <td>0.000209</td>\n",
       "      <td>-0.010274</td>\n",
       "      <td>0.003188</td>\n",
       "      <td>-4.522439</td>\n",
       "    </tr>\n",
       "    <tr>\n",
       "      <td>h1</td>\n",
       "      <td>1.261000e-36</td>\n",
       "      <td>0.000058</td>\n",
       "      <td>-0.000540</td>\n",
       "      <td>0.000527</td>\n",
       "      <td>0.273729</td>\n",
       "    </tr>\n",
       "  </tbody>\n",
       "</table>\n",
       "</div>"
      ],
      "text/plain": [
       "             median       std       min       max      skew\n",
       "layer                                                      \n",
       "h0    -1.165619e-35  0.000209 -0.010274  0.003188 -4.522439\n",
       "h1     1.261000e-36  0.000058 -0.000540  0.000527  0.273729"
      ]
     },
     "execution_count": 18,
     "metadata": {},
     "output_type": "execute_result"
    }
   ],
   "source": [
    "g_stats = gradients.groupby(['layer'])['target'].agg(['median', 'std', 'min', 'max', 'skew'])\n",
    "g_stats.head(10)"
   ]
  },
  {
   "cell_type": "code",
   "execution_count": 19,
   "metadata": {},
   "outputs": [
    {
     "data": {
      "text/plain": [
       "Text(0.5, 1.0, 'Gradients')"
      ]
     },
     "execution_count": 19,
     "metadata": {},
     "output_type": "execute_result"
    },
    {
     "data": {
      "image/png": "[encoded data removed]",
      "text/plain": [
       "<Figure size 432x288 with 1 Axes>"
      ]
     },
     "metadata": {
      "needs_background": "light"
     },
     "output_type": "display_data"
    }
   ],
   "source": [
    "g_ax = sns.violinplot(x='layer', y='target', data=gradients)\n",
    "g_ax.set_title('Gradients')"
   ]
  },
  {
   "cell_type": "markdown",
   "metadata": {},
   "source": [
    "# Inspect weights"
   ]
  },
  {
   "cell_type": "code",
   "execution_count": 20,
   "metadata": {},
   "outputs": [
    {
     "name": "stdout",
     "output_type": "stream",
     "text": [
      "<class 'pandas.core.frame.DataFrame'>\n",
      "Int64Index: 3453400 entries, 0 to 199\n",
      "Data columns (total 2 columns):\n",
      "layer     object\n",
      "target    float32\n",
      "dtypes: float32(1), object(1)\n",
      "memory usage: 65.9+ MB\n"
     ]
    }
   ],
   "source": [
    "weights = weights_logger.weights\n",
    "weights.info()"
   ]
  },
  {
   "cell_type": "code",
   "execution_count": 21,
   "metadata": {},
   "outputs": [
    {
     "data": {
      "text/html": [
       "<div>\n",
       "<style scoped>\n",
       "    .dataframe tbody tr th:only-of-type {\n",
       "        vertical-align: middle;\n",
       "    }\n",
       "\n",
       "    .dataframe tbody tr th {\n",
       "        vertical-align: top;\n",
       "    }\n",
       "\n",
       "    .dataframe thead th {\n",
       "        text-align: right;\n",
       "    }\n",
       "</style>\n",
       "<table border=\"1\" class=\"dataframe\">\n",
       "  <thead>\n",
       "    <tr style=\"text-align: right;\">\n",
       "      <th></th>\n",
       "      <th>median</th>\n",
       "      <th>std</th>\n",
       "      <th>min</th>\n",
       "      <th>max</th>\n",
       "      <th>skew</th>\n",
       "    </tr>\n",
       "    <tr>\n",
       "      <th>layer</th>\n",
       "      <th></th>\n",
       "      <th></th>\n",
       "      <th></th>\n",
       "      <th></th>\n",
       "      <th></th>\n",
       "    </tr>\n",
       "  </thead>\n",
       "  <tbody>\n",
       "    <tr>\n",
       "      <td>dense_0</td>\n",
       "      <td>-6.123453e-32</td>\n",
       "      <td>0.030056</td>\n",
       "      <td>-1.060330</td>\n",
       "      <td>0.941722</td>\n",
       "      <td>-4.109203</td>\n",
       "    </tr>\n",
       "    <tr>\n",
       "      <td>dense_1</td>\n",
       "      <td>-2.187041e-32</td>\n",
       "      <td>0.037846</td>\n",
       "      <td>-0.645425</td>\n",
       "      <td>1.216094</td>\n",
       "      <td>11.637866</td>\n",
       "    </tr>\n",
       "  </tbody>\n",
       "</table>\n",
       "</div>"
      ],
      "text/plain": [
       "               median       std       min       max       skew\n",
       "layer                                                         \n",
       "dense_0 -6.123453e-32  0.030056 -1.060330  0.941722  -4.109203\n",
       "dense_1 -2.187041e-32  0.037846 -0.645425  1.216094  11.637866"
      ]
     },
     "execution_count": 21,
     "metadata": {},
     "output_type": "execute_result"
    }
   ],
   "source": [
    "w_stats = weights.groupby(['layer'])['target'].agg(['median', 'std', 'min', 'max', 'skew'])\n",
    "w_stats.head(HIDDEN_LAYERS * 10)"
   ]
  },
  {
   "cell_type": "code",
   "execution_count": 22,
   "metadata": {},
   "outputs": [
    {
     "data": {
      "text/plain": [
       "Text(0.5, 1.0, 'Weights')"
      ]
     },
     "execution_count": 22,
     "metadata": {},
     "output_type": "execute_result"
    },
    {
     "data": {
      "image/png": "[encoded data removed]",
      "text/plain": [
       "<Figure size 432x288 with 1 Axes>"
      ]
     },
     "metadata": {
      "needs_background": "light"
     },
     "output_type": "display_data"
    }
   ],
   "source": [
    "w_ax = sns.violinplot(x='layer', y='target', data=weights)\n",
    "w_ax.set_title('Weights')"
   ]
  },
  {
   "cell_type": "markdown",
   "metadata": {},
   "source": [
    "# Inspect activations"
   ]
  },
  {
   "cell_type": "code",
   "execution_count": 23,
   "metadata": {},
   "outputs": [
    {
     "name": "stdout",
     "output_type": "stream",
     "text": [
      "<class 'pandas.core.frame.DataFrame'>\n",
      "Int64Index: 400000 entries, 0 to 199999\n",
      "Data columns (total 2 columns):\n",
      "layer     400000 non-null object\n",
      "target    400000 non-null float64\n",
      "dtypes: float64(1), object(1)\n",
      "memory usage: 9.2+ MB\n"
     ]
    }
   ],
   "source": [
    "_sample = train.sample(n=1000)\n",
    "x_sample = _sample[PREDICTORS]\n",
    "y_sample = _sample[TARGET]\n",
    "activations = pd.DataFrame(columns=['layer', 'target'])\n",
    "#layers = ['dense_0', 'dense_1']\n",
    "layers = []\n",
    "for i in range(HIDDEN_LAYERS):\n",
    "    layers.append(f'batch_norm_{i}')\n",
    "\n",
    "for i, layer in enumerate(layers):\n",
    "    intermediate_layer_model = keras.Model(inputs=model.input, outputs=model.get_layer(layer).output)\n",
    "    intermediate_output = intermediate_layer_model.predict(x_sample)\n",
    "    tmp = pd.DataFrame(columns=['layer', 'target'])\n",
    "    tmp['target'] = [a for example in intermediate_output for a in example]\n",
    "    tmp['layer'] = f'h{i}'\n",
    "    activations = pd.concat([activations, tmp])\n",
    "  \n",
    "activations.info()"
   ]
  },
  {
   "cell_type": "code",
   "execution_count": 24,
   "metadata": {},
   "outputs": [
    {
     "data": {
      "text/html": [
       "<div>\n",
       "<style scoped>\n",
       "    .dataframe tbody tr th:only-of-type {\n",
       "        vertical-align: middle;\n",
       "    }\n",
       "\n",
       "    .dataframe tbody tr th {\n",
       "        vertical-align: top;\n",
       "    }\n",
       "\n",
       "    .dataframe thead th {\n",
       "        text-align: right;\n",
       "    }\n",
       "</style>\n",
       "<table border=\"1\" class=\"dataframe\">\n",
       "  <thead>\n",
       "    <tr style=\"text-align: right;\">\n",
       "      <th></th>\n",
       "      <th>median</th>\n",
       "      <th>std</th>\n",
       "      <th>min</th>\n",
       "      <th>max</th>\n",
       "      <th>skew</th>\n",
       "    </tr>\n",
       "    <tr>\n",
       "      <th>layer</th>\n",
       "      <th></th>\n",
       "      <th></th>\n",
       "      <th></th>\n",
       "      <th></th>\n",
       "      <th></th>\n",
       "    </tr>\n",
       "  </thead>\n",
       "  <tbody>\n",
       "    <tr>\n",
       "      <td>h0</td>\n",
       "      <td>-1.649988e-01</td>\n",
       "      <td>0.732646</td>\n",
       "      <td>-1.543852</td>\n",
       "      <td>25.419794</td>\n",
       "      <td>4.878121</td>\n",
       "    </tr>\n",
       "    <tr>\n",
       "      <td>h1</td>\n",
       "      <td>-5.046107e-07</td>\n",
       "      <td>0.237948</td>\n",
       "      <td>-1.254865</td>\n",
       "      <td>2.817132</td>\n",
       "      <td>0.649367</td>\n",
       "    </tr>\n",
       "  </tbody>\n",
       "</table>\n",
       "</div>"
      ],
      "text/plain": [
       "             median       std       min        max      skew\n",
       "layer                                                       \n",
       "h0    -1.649988e-01  0.732646 -1.543852  25.419794  4.878121\n",
       "h1    -5.046107e-07  0.237948 -1.254865   2.817132  0.649367"
      ]
     },
     "execution_count": 24,
     "metadata": {},
     "output_type": "execute_result"
    }
   ],
   "source": [
    "stats = activations.groupby(['layer'])['target'].agg(['median', 'std', 'min', 'max', 'skew'])\n",
    "stats.head(len(layers))"
   ]
  },
  {
   "cell_type": "code",
   "execution_count": 25,
   "metadata": {},
   "outputs": [
    {
     "data": {
      "text/plain": [
       "Text(0.5, 1.0, 'Activations')"
      ]
     },
     "execution_count": 25,
     "metadata": {},
     "output_type": "execute_result"
    },
    {
     "data": {
      "image/png": "[encoded data removed]",
      "text/plain": [
       "<Figure size 432x288 with 1 Axes>"
      ]
     },
     "metadata": {
      "needs_background": "light"
     },
     "output_type": "display_data"
    }
   ],
   "source": [
    "ax = sns.violinplot(x='layer', y='target', data=activations)\n",
    "ax.set_title('Activations')"
   ]
  },
  {
   "cell_type": "markdown",
   "metadata": {},
   "source": [
    "# Plot training vs validation errors"
   ]
  },
  {
   "cell_type": "code",
   "execution_count": 26,
   "metadata": {},
   "outputs": [
    {
     "data": {
      "text/html": [
       "<div>\n",
       "<style scoped>\n",
       "    .dataframe tbody tr th:only-of-type {\n",
       "        vertical-align: middle;\n",
       "    }\n",
       "\n",
       "    .dataframe tbody tr th {\n",
       "        vertical-align: top;\n",
       "    }\n",
       "\n",
       "    .dataframe thead th {\n",
       "        text-align: right;\n",
       "    }\n",
       "</style>\n",
       "<table border=\"1\" class=\"dataframe\">\n",
       "  <thead>\n",
       "    <tr style=\"text-align: right;\">\n",
       "      <th></th>\n",
       "      <th>loss</th>\n",
       "      <th>acc</th>\n",
       "      <th>val_loss</th>\n",
       "      <th>val_acc</th>\n",
       "      <th>lr</th>\n",
       "      <th>epoch</th>\n",
       "    </tr>\n",
       "  </thead>\n",
       "  <tbody>\n",
       "    <tr>\n",
       "      <td>0</td>\n",
       "      <td>0.169626</td>\n",
       "      <td>0.964382</td>\n",
       "      <td>0.137285</td>\n",
       "      <td>0.967276</td>\n",
       "      <td>0.002000</td>\n",
       "      <td>0</td>\n",
       "    </tr>\n",
       "    <tr>\n",
       "      <td>1</td>\n",
       "      <td>0.127396</td>\n",
       "      <td>0.969411</td>\n",
       "      <td>0.130625</td>\n",
       "      <td>0.965265</td>\n",
       "      <td>0.002000</td>\n",
       "      <td>1</td>\n",
       "    </tr>\n",
       "    <tr>\n",
       "      <td>2</td>\n",
       "      <td>0.124791</td>\n",
       "      <td>0.969328</td>\n",
       "      <td>0.125804</td>\n",
       "      <td>0.965984</td>\n",
       "      <td>0.002000</td>\n",
       "      <td>2</td>\n",
       "    </tr>\n",
       "    <tr>\n",
       "      <td>3</td>\n",
       "      <td>0.116669</td>\n",
       "      <td>0.970243</td>\n",
       "      <td>0.117782</td>\n",
       "      <td>0.968757</td>\n",
       "      <td>0.001000</td>\n",
       "      <td>3</td>\n",
       "    </tr>\n",
       "    <tr>\n",
       "      <td>4</td>\n",
       "      <td>0.114803</td>\n",
       "      <td>0.970618</td>\n",
       "      <td>0.122899</td>\n",
       "      <td>0.966641</td>\n",
       "      <td>0.001000</td>\n",
       "      <td>4</td>\n",
       "    </tr>\n",
       "    <tr>\n",
       "      <td>5</td>\n",
       "      <td>0.114735</td>\n",
       "      <td>0.970293</td>\n",
       "      <td>0.116387</td>\n",
       "      <td>0.969837</td>\n",
       "      <td>0.001000</td>\n",
       "      <td>5</td>\n",
       "    </tr>\n",
       "    <tr>\n",
       "      <td>6</td>\n",
       "      <td>0.114078</td>\n",
       "      <td>0.970515</td>\n",
       "      <td>0.120187</td>\n",
       "      <td>0.966746</td>\n",
       "      <td>0.001000</td>\n",
       "      <td>6</td>\n",
       "    </tr>\n",
       "    <tr>\n",
       "      <td>7</td>\n",
       "      <td>0.109920</td>\n",
       "      <td>0.971364</td>\n",
       "      <td>0.115014</td>\n",
       "      <td>0.968503</td>\n",
       "      <td>0.000500</td>\n",
       "      <td>7</td>\n",
       "    </tr>\n",
       "    <tr>\n",
       "      <td>8</td>\n",
       "      <td>0.108515</td>\n",
       "      <td>0.971528</td>\n",
       "      <td>0.112428</td>\n",
       "      <td>0.968715</td>\n",
       "      <td>0.000500</td>\n",
       "      <td>8</td>\n",
       "    </tr>\n",
       "    <tr>\n",
       "      <td>9</td>\n",
       "      <td>0.107992</td>\n",
       "      <td>0.971660</td>\n",
       "      <td>0.112360</td>\n",
       "      <td>0.969604</td>\n",
       "      <td>0.000500</td>\n",
       "      <td>9</td>\n",
       "    </tr>\n",
       "    <tr>\n",
       "      <td>10</td>\n",
       "      <td>0.107619</td>\n",
       "      <td>0.971649</td>\n",
       "      <td>0.111581</td>\n",
       "      <td>0.970091</td>\n",
       "      <td>0.000500</td>\n",
       "      <td>10</td>\n",
       "    </tr>\n",
       "    <tr>\n",
       "      <td>11</td>\n",
       "      <td>0.104681</td>\n",
       "      <td>0.972350</td>\n",
       "      <td>0.108857</td>\n",
       "      <td>0.970239</td>\n",
       "      <td>0.000250</td>\n",
       "      <td>11</td>\n",
       "    </tr>\n",
       "    <tr>\n",
       "      <td>12</td>\n",
       "      <td>0.103357</td>\n",
       "      <td>0.972453</td>\n",
       "      <td>0.108363</td>\n",
       "      <td>0.970112</td>\n",
       "      <td>0.000250</td>\n",
       "      <td>12</td>\n",
       "    </tr>\n",
       "    <tr>\n",
       "      <td>13</td>\n",
       "      <td>0.102874</td>\n",
       "      <td>0.972584</td>\n",
       "      <td>0.109004</td>\n",
       "      <td>0.970027</td>\n",
       "      <td>0.000250</td>\n",
       "      <td>13</td>\n",
       "    </tr>\n",
       "    <tr>\n",
       "      <td>14</td>\n",
       "      <td>0.102513</td>\n",
       "      <td>0.972715</td>\n",
       "      <td>0.110027</td>\n",
       "      <td>0.969371</td>\n",
       "      <td>0.000250</td>\n",
       "      <td>14</td>\n",
       "    </tr>\n",
       "    <tr>\n",
       "      <td>15</td>\n",
       "      <td>0.100508</td>\n",
       "      <td>0.973037</td>\n",
       "      <td>0.107253</td>\n",
       "      <td>0.969646</td>\n",
       "      <td>0.000125</td>\n",
       "      <td>15</td>\n",
       "    </tr>\n",
       "    <tr>\n",
       "      <td>16</td>\n",
       "      <td>0.099745</td>\n",
       "      <td>0.973353</td>\n",
       "      <td>0.110697</td>\n",
       "      <td>0.969350</td>\n",
       "      <td>0.000125</td>\n",
       "      <td>16</td>\n",
       "    </tr>\n",
       "    <tr>\n",
       "      <td>17</td>\n",
       "      <td>0.099012</td>\n",
       "      <td>0.973504</td>\n",
       "      <td>0.106830</td>\n",
       "      <td>0.970048</td>\n",
       "      <td>0.000125</td>\n",
       "      <td>17</td>\n",
       "    </tr>\n",
       "    <tr>\n",
       "      <td>18</td>\n",
       "      <td>0.098584</td>\n",
       "      <td>0.973711</td>\n",
       "      <td>0.107036</td>\n",
       "      <td>0.970239</td>\n",
       "      <td>0.000125</td>\n",
       "      <td>18</td>\n",
       "    </tr>\n",
       "    <tr>\n",
       "      <td>19</td>\n",
       "      <td>0.096965</td>\n",
       "      <td>0.974003</td>\n",
       "      <td>0.105768</td>\n",
       "      <td>0.970874</td>\n",
       "      <td>0.000063</td>\n",
       "      <td>19</td>\n",
       "    </tr>\n",
       "    <tr>\n",
       "      <td>20</td>\n",
       "      <td>0.096355</td>\n",
       "      <td>0.974018</td>\n",
       "      <td>0.105689</td>\n",
       "      <td>0.970705</td>\n",
       "      <td>0.000063</td>\n",
       "      <td>20</td>\n",
       "    </tr>\n",
       "    <tr>\n",
       "      <td>21</td>\n",
       "      <td>0.095990</td>\n",
       "      <td>0.974239</td>\n",
       "      <td>0.106047</td>\n",
       "      <td>0.970070</td>\n",
       "      <td>0.000063</td>\n",
       "      <td>21</td>\n",
       "    </tr>\n",
       "    <tr>\n",
       "      <td>22</td>\n",
       "      <td>0.095688</td>\n",
       "      <td>0.974346</td>\n",
       "      <td>0.105665</td>\n",
       "      <td>0.970578</td>\n",
       "      <td>0.000063</td>\n",
       "      <td>22</td>\n",
       "    </tr>\n",
       "    <tr>\n",
       "      <td>23</td>\n",
       "      <td>0.094003</td>\n",
       "      <td>0.974870</td>\n",
       "      <td>0.105102</td>\n",
       "      <td>0.970705</td>\n",
       "      <td>0.000031</td>\n",
       "      <td>23</td>\n",
       "    </tr>\n",
       "    <tr>\n",
       "      <td>24</td>\n",
       "      <td>0.093852</td>\n",
       "      <td>0.974804</td>\n",
       "      <td>0.104319</td>\n",
       "      <td>0.971128</td>\n",
       "      <td>0.000031</td>\n",
       "      <td>24</td>\n",
       "    </tr>\n",
       "    <tr>\n",
       "      <td>25</td>\n",
       "      <td>0.093365</td>\n",
       "      <td>0.974868</td>\n",
       "      <td>0.104814</td>\n",
       "      <td>0.970937</td>\n",
       "      <td>0.000031</td>\n",
       "      <td>25</td>\n",
       "    </tr>\n",
       "    <tr>\n",
       "      <td>26</td>\n",
       "      <td>0.092765</td>\n",
       "      <td>0.975113</td>\n",
       "      <td>0.104269</td>\n",
       "      <td>0.970937</td>\n",
       "      <td>0.000031</td>\n",
       "      <td>26</td>\n",
       "    </tr>\n",
       "    <tr>\n",
       "      <td>27</td>\n",
       "      <td>0.092436</td>\n",
       "      <td>0.975257</td>\n",
       "      <td>0.104704</td>\n",
       "      <td>0.971234</td>\n",
       "      <td>0.000016</td>\n",
       "      <td>27</td>\n",
       "    </tr>\n",
       "    <tr>\n",
       "      <td>28</td>\n",
       "      <td>0.091778</td>\n",
       "      <td>0.975303</td>\n",
       "      <td>0.104484</td>\n",
       "      <td>0.971213</td>\n",
       "      <td>0.000016</td>\n",
       "      <td>28</td>\n",
       "    </tr>\n",
       "    <tr>\n",
       "      <td>29</td>\n",
       "      <td>0.091500</td>\n",
       "      <td>0.975435</td>\n",
       "      <td>0.104523</td>\n",
       "      <td>0.971361</td>\n",
       "      <td>0.000016</td>\n",
       "      <td>29</td>\n",
       "    </tr>\n",
       "    <tr>\n",
       "      <td>30</td>\n",
       "      <td>0.091420</td>\n",
       "      <td>0.975397</td>\n",
       "      <td>0.104834</td>\n",
       "      <td>0.970916</td>\n",
       "      <td>0.000016</td>\n",
       "      <td>30</td>\n",
       "    </tr>\n",
       "  </tbody>\n",
       "</table>\n",
       "</div>"
      ],
      "text/plain": [
       "        loss       acc  val_loss   val_acc        lr  epoch\n",
       "0   0.169626  0.964382  0.137285  0.967276  0.002000      0\n",
       "1   0.127396  0.969411  0.130625  0.965265  0.002000      1\n",
       "2   0.124791  0.969328  0.125804  0.965984  0.002000      2\n",
       "3   0.116669  0.970243  0.117782  0.968757  0.001000      3\n",
       "4   0.114803  0.970618  0.122899  0.966641  0.001000      4\n",
       "5   0.114735  0.970293  0.116387  0.969837  0.001000      5\n",
       "6   0.114078  0.970515  0.120187  0.966746  0.001000      6\n",
       "7   0.109920  0.971364  0.115014  0.968503  0.000500      7\n",
       "8   0.108515  0.971528  0.112428  0.968715  0.000500      8\n",
       "9   0.107992  0.971660  0.112360  0.969604  0.000500      9\n",
       "10  0.107619  0.971649  0.111581  0.970091  0.000500     10\n",
       "11  0.104681  0.972350  0.108857  0.970239  0.000250     11\n",
       "12  0.103357  0.972453  0.108363  0.970112  0.000250     12\n",
       "13  0.102874  0.972584  0.109004  0.970027  0.000250     13\n",
       "14  0.102513  0.972715  0.110027  0.969371  0.000250     14\n",
       "15  0.100508  0.973037  0.107253  0.969646  0.000125     15\n",
       "16  0.099745  0.973353  0.110697  0.969350  0.000125     16\n",
       "17  0.099012  0.973504  0.106830  0.970048  0.000125     17\n",
       "18  0.098584  0.973711  0.107036  0.970239  0.000125     18\n",
       "19  0.096965  0.974003  0.105768  0.970874  0.000063     19\n",
       "20  0.096355  0.974018  0.105689  0.970705  0.000063     20\n",
       "21  0.095990  0.974239  0.106047  0.970070  0.000063     21\n",
       "22  0.095688  0.974346  0.105665  0.970578  0.000063     22\n",
       "23  0.094003  0.974870  0.105102  0.970705  0.000031     23\n",
       "24  0.093852  0.974804  0.104319  0.971128  0.000031     24\n",
       "25  0.093365  0.974868  0.104814  0.970937  0.000031     25\n",
       "26  0.092765  0.975113  0.104269  0.970937  0.000031     26\n",
       "27  0.092436  0.975257  0.104704  0.971234  0.000016     27\n",
       "28  0.091778  0.975303  0.104484  0.971213  0.000016     28\n",
       "29  0.091500  0.975435  0.104523  0.971361  0.000016     29\n",
       "30  0.091420  0.975397  0.104834  0.970916  0.000016     30"
      ]
     },
     "execution_count": 26,
     "metadata": {},
     "output_type": "execute_result"
    }
   ],
   "source": [
    "hist = pd.DataFrame(history.history)\n",
    "hist['epoch'] = history.epoch\n",
    "hist.tail(EPOCHS)"
   ]
  },
  {
   "cell_type": "code",
   "execution_count": 27,
   "metadata": {},
   "outputs": [
    {
     "data": {
      "image/png": "[encoded data removed]",
      "text/plain": [
       "<Figure size 432x288 with 1 Axes>"
      ]
     },
     "metadata": {
      "needs_background": "light"
     },
     "output_type": "display_data"
    },
    {
     "data": {
      "image/png": "[encoded data removed]",
      "text/plain": [
       "<Figure size 432x288 with 1 Axes>"
      ]
     },
     "metadata": {
      "needs_background": "light"
     },
     "output_type": "display_data"
    },
    {
     "data": {
      "image/png": "[encoded data removed]",
      "text/plain": [
       "<Figure size 432x288 with 1 Axes>"
      ]
     },
     "metadata": {
      "needs_background": "light"
     },
     "output_type": "display_data"
    }
   ],
   "source": [
    "def plot_history(history):\n",
    "  hist = pd.DataFrame(history.history)\n",
    "  hist['epoch'] = history.epoch\n",
    "  plt.figure()\n",
    "  plt.xlabel('Epoch')\n",
    "  plt.ylabel('Loss')\n",
    "  plt.plot(hist['epoch'], hist['loss'],label='Train')\n",
    "  plt.plot(hist['epoch'], hist['val_loss'],label = 'Val')\n",
    "  #plt.ylim([0,5])\n",
    "  plt.legend()\n",
    "  plt.figure()\n",
    "  plt.xlabel('Epoch')\n",
    "  plt.ylabel('Accuracy')\n",
    "  plt.plot(hist['epoch'], hist['acc'],label='Train')\n",
    "  plt.plot(hist['epoch'], hist['val_acc'],label = 'Val')\n",
    "  #plt.ylim([0,20])\n",
    "  plt.legend()\n",
    "  plt.figure()\n",
    "  plt.xlabel('Learning Rate')\n",
    "  plt.ylabel('Loss')\n",
    "  plt.plot(hist['lr']*-1, hist['loss'],label='Train')\n",
    "  plt.plot(hist['lr']*-1, hist['val_loss'],label = 'Val')\n",
    "  plt.legend()\n",
    "  plt.show()\n",
    "\n",
    "\n",
    "plot_history(history)"
   ]
  },
  {
   "cell_type": "code",
   "execution_count": 28,
   "metadata": {},
   "outputs": [
    {
     "data": {
      "text/html": [
       "<div>\n",
       "<style scoped>\n",
       "    .dataframe tbody tr th:only-of-type {\n",
       "        vertical-align: middle;\n",
       "    }\n",
       "\n",
       "    .dataframe tbody tr th {\n",
       "        vertical-align: top;\n",
       "    }\n",
       "\n",
       "    .dataframe thead th {\n",
       "        text-align: right;\n",
       "    }\n",
       "</style>\n",
       "<table border=\"1\" class=\"dataframe\">\n",
       "  <thead>\n",
       "    <tr style=\"text-align: right;\">\n",
       "      <th></th>\n",
       "      <th>TransactionID</th>\n",
       "      <th>isFraud</th>\n",
       "    </tr>\n",
       "  </thead>\n",
       "  <tbody>\n",
       "    <tr>\n",
       "      <td>0</td>\n",
       "      <td>3663549</td>\n",
       "      <td>0.002998</td>\n",
       "    </tr>\n",
       "    <tr>\n",
       "      <td>1</td>\n",
       "      <td>3663550</td>\n",
       "      <td>0.009283</td>\n",
       "    </tr>\n",
       "    <tr>\n",
       "      <td>2</td>\n",
       "      <td>3663551</td>\n",
       "      <td>0.015605</td>\n",
       "    </tr>\n",
       "    <tr>\n",
       "      <td>3</td>\n",
       "      <td>3663552</td>\n",
       "      <td>0.003081</td>\n",
       "    </tr>\n",
       "    <tr>\n",
       "      <td>4</td>\n",
       "      <td>3663553</td>\n",
       "      <td>0.111815</td>\n",
       "    </tr>\n",
       "  </tbody>\n",
       "</table>\n",
       "</div>"
      ],
      "text/plain": [
       "   TransactionID   isFraud\n",
       "0        3663549  0.002998\n",
       "1        3663550  0.009283\n",
       "2        3663551  0.015605\n",
       "3        3663552  0.003081\n",
       "4        3663553  0.111815"
      ]
     },
     "execution_count": 28,
     "metadata": {},
     "output_type": "execute_result"
    }
   ],
   "source": [
    "x_test = test[PREDICTORS]\n",
    "sub = pd.read_csv(f'../input/ieee-fraud-detection/sample_submission.csv')\n",
    "sub[TARGET] = model.predict(x_test)[:,1]\n",
    "sub.head()"
   ]
  },
  {
   "cell_type": "code",
   "execution_count": 29,
   "metadata": {},
   "outputs": [
    {
     "name": "stdout",
     "output_type": "stream",
     "text": [
      "['__output__.json', '__notebook__.ipynb', 'submission.csv']\n"
     ]
    }
   ],
   "source": [
    "sub.to_csv('submission.csv', index=False)\n",
    "print(os.listdir(\".\"))"
   ]
  }
 ],
 "metadata": {
  "kernelspec": {
   "display_name": "Python 3",
   "language": "python",
   "name": "python3"
  },
  "language_info": {
   "codemirror_mode": {
    "name": "ipython",
    "version": 3
   },
   "file_extension": ".py",
   "mimetype": "text/x-python",
   "name": "python",
   "nbconvert_exporter": "python",
   "pygments_lexer": "ipython3",
   "version": "3.6.6"
  }
 },
 "nbformat": 4,
 "nbformat_minor": 1
}
